{
 "cells": [
  {
   "cell_type": "markdown",
   "id": "3a2d7540-036e-4385-b274-e3c5c69ce645",
   "metadata": {},
   "source": [
    "# IEE 577: Data Science for Decision System Analytics Spring 2021\n",
    "## Assignment 1\n",
    "## Nikhil Joshi - 1219967502"
   ]
  },
  {
   "cell_type": "markdown",
   "id": "3fd18c69-5173-41ad-9d90-33f3f9877d41",
   "metadata": {
    "tags": []
   },
   "source": [
    "### Problem 1\n",
    "##### (i) Depth of network: First, please try to complete Table 2.1 by trying on selecting two out of four datasets with different neural networks to test the effect of different number of layers (depth). Please keep the number of neurons as 4 for eachlayer. During the training, you may find the training loss is oscillating, in this case, please continue the training by reducing the learning rate from 0.03 to 0.01 or even smaller to stabilize the training. Please train the model until the training loss become stable. Please try to explain the behavior.\n",
    "\n"
   ]
  },
  {
   "cell_type": "markdown",
   "id": "42653c2c-7294-431d-b13e-ac120ee094ab",
   "metadata": {},
   "source": [
    "                                              Table 2.1\n",
    "Dataset |Loss |1 hidden layer |2 hidden layer |3 hidden layer \n",
    "------|-----|-----|-----|----- \n",
    "Square|Training|0.004|0.002|0.002\n",
    "Square|Testing|0.032|0.010|0.017\n",
    "Spiral|Training|0.313|0.300|0.161\n",
    "Spiral|Testing|0.468|0.534|0.258"
   ]
  },
  {
   "cell_type": "markdown",
   "id": "86b9f2b4-23de-431f-bf9e-8904833743d8",
   "metadata": {},
   "source": [
    "##### Observations (i)\n",
    "Spiral data set has greater testing loss because of the complexity in the data form. Training loss is observed to be lower than testing loss. fluctuations or 'jitter' is observed because of step overshooting in locating the local optima, thus reducing the learning rate helps in reducing the step size and converge data at a steady rate. Jitter is observed in spiral data which is reduced by lowering the learning rate as mentioned in the problem statement. "
   ]
  },
  {
   "cell_type": "markdown",
   "id": "f0fd310c-0ea7-4f8a-92a7-6f657a87aca7",
   "metadata": {},
   "source": [
    "<br>"
   ]
  },
  {
   "cell_type": "markdown",
   "id": "9bf6594f-d551-4aef-8624-295a4856078b",
   "metadata": {},
   "source": [
    "##### (ii) Width of network: First, please try to complete Table 2.2 by trying on selecting two out of four datasets with different neural networks to test the effect of different number of neurons. We will keep the models with 3 hidden layers. Please try to explain the behavior.\n"
   ]
  },
  {
   "cell_type": "markdown",
   "id": "d9a08d1f-6913-4404-8b83-60ac8e384307",
   "metadata": {},
   "source": [
    "                                              Table 2.2\n",
    "Dataset |Loss |2 neurons |4 neurons |8 neurons \n",
    "------|-----|-----|-----|----- \n",
    "Exclusive or|Training|0.005|0.004|0.013\n",
    "Exclusive or|Testing|0.010|0.004|0.019\n",
    "Spiral|Training|0.477|0.477|0.473\n",
    "Spiral|Testing|0.473|0.475|0.473"
   ]
  },
  {
   "cell_type": "markdown",
   "id": "c87383ca-d309-4247-97ed-4209d557dbbc",
   "metadata": {},
   "source": [
    "##### Observations (ii)\n",
    "Spiral data set has greater testing loss because of the complexity in the data form. Training loss is observed to be lower than testing loss. fluctuations or 'jitter' is observed because of step overshooting in locating the local optima, thus reducing the learning rate helps in reducing the step size and converge data at a steady rate. Jitter is observed in spiral data which is reduced by lowering the learning rate as mentioned in the problem statement."
   ]
  },
  {
   "cell_type": "markdown",
   "id": "705a6b36-b869-424e-a887-0c4bc2dcc040",
   "metadata": {},
   "source": [
    "<br>"
   ]
  },
  {
   "cell_type": "markdown",
   "id": "ce268ef4-be4d-42be-8141-f673cb024ba0",
   "metadata": {},
   "source": [
    "### Problem 2\n",
    "##### (i) Suppose P(snow today) = 0.30, P(snow tomorrow) = 0.60, P(snow today and tomorrow) = 0.25. Given that it snows today, what is the probability it will snow tomorrow? Please show brief steps for calculation \n",
    "\n",
    "Given: P(snow today) = P(A) = 0.30 ; P(snow tomorrow) = P(B) = 0.60 ; P(snow today and tomorrow) = P(AnB) = 0.25\n",
    "\n",
    "P(B|A) = P(AnB) / P(A)  => P(B|A) = 0.25 / 0.30 = 0.83"
   ]
  },
  {
   "cell_type": "markdown",
   "id": "1dd2d91c-99ad-4a30-826e-da7a78372ab6",
   "metadata": {},
   "source": [
    "<br>"
   ]
  },
  {
   "cell_type": "markdown",
   "id": "9f829c07-fe95-4041-8aba-17477ee8883b",
   "metadata": {},
   "source": [
    "##### (ii) What does it mean when a machine learning model is overfitting? Select the most appropriate explanation. Only the answer is needed.\n",
    "\n",
    "Answer - (d) A model that is overfitting is a model that was trained on too much data"
   ]
  },
  {
   "cell_type": "markdown",
   "id": "f3312bea-4180-4b53-9159-738516be5d21",
   "metadata": {},
   "source": [
    "<br>"
   ]
  },
  {
   "cell_type": "markdown",
   "id": "c39a750a-ea07-4813-950f-8341077405ac",
   "metadata": {},
   "source": [
    "##### (iii) Which of the following can help resolve the overfitting issue? Only the answer is needed.\n",
    "\n",
    "Answer - (b) Increase the number of training samples"
   ]
  },
  {
   "cell_type": "markdown",
   "id": "77e8e795-5f82-4a10-8247-21bcc6560283",
   "metadata": {},
   "source": [
    "<br>"
   ]
  },
  {
   "cell_type": "markdown",
   "id": "3879601f-1545-4bc8-affe-8555bad510f2",
   "metadata": {},
   "source": [
    "### Problem 3\n",
    "##### (A)  Please write a program that uses Numpy, creates two random 100 ×100 arrays A and B and add them together as C = A + B in two different ways: (i) By using the for-loop method to compute each element of C by Cij = Aij + Bij for all i,j = 1,··· ,100.\n",
    "\n",
    "##### Please answer the following questions (a) Write a small program for both methods and test each methods 100 times and record the timing results in a numpy ector of length 100. (b) For each method, please compute the average and standard deviation of the running time. Please answer the following questions\n",
    "\n",
    "METHOD 1 - using for-loop"
   ]
  },
  {
   "cell_type": "code",
   "execution_count": 28,
   "id": "6784d75b-13e2-4ef1-b3fc-b1161a9a96a8",
   "metadata": {},
   "outputs": [
    {
     "name": "stdout",
     "output_type": "stream",
     "text": [
      "Array after adding A & B using for loop method:\n",
      "\n",
      "[[154 132 129 ... 101  69 101]\n",
      " [140  74 110 ... 116 124  79]\n",
      " [122 106 126 ... 111 122  93]\n",
      " ...\n",
      " [ 97  94 132 ... 143 164 126]\n",
      " [ 90 114  82 ... 123 153  98]\n",
      " [106  95  70 ...  88  92 103]]\n",
      "\n",
      "6.77 ms ± 20.1 µs per loop (mean ± std. dev. of 7 runs, 100 loops each)\n",
      "\n",
      "\n",
      " Time for addition method: \n",
      "\n",
      "[15.60664177  0.         15.62523842  0.          0.         15.62619209\n",
      "  0.         20.96509933  0.         13.14616203  6.3393116   7.00163841\n",
      "  7.00831413  4.98795509  0.          0.         15.64860344  0.\n",
      " 15.62619209  0.         15.62619209  0.          0.         15.614748\n",
      "  0.         15.63739777  0.         15.62643051  7.46822357  0.\n",
      "  0.         20.86377144  7.00092316  7.11870193  0.          0.\n",
      " 15.63811302  0.         18.21112633  7.2054863   0.         13.32569122\n",
      "  7.22050667  0.89836121 12.59183884  6.54888153  2.10285187  0.\n",
      " 15.63835144  0.         15.62619209  0.          0.         15.67721367\n",
      "  0.         15.57469368  0.         15.62595367  0.          0.\n",
      " 15.62571526  0.         15.62643051  0.         15.62619209  0.\n",
      " 15.62571526  0.          0.         15.62714577  0.         15.625\n",
      "  9.60898399  1.07192993 13.74578476  7.00092316  2.12192535 10.40840149\n",
      "  6.99496269  3.80730629  0.         15.63715935  0.         15.62690735\n",
      "  0.          0.         15.62571526  0.         15.62571526  0.\n",
      " 15.62595367  0.         15.61379433  0.          0.         15.62428474\n",
      "  0.         18.5136795   0.05102158  0.        ]\n",
      "\n",
      "\n",
      " Average time for addition: \n",
      "6.808836460113525\n",
      "\n",
      "\n",
      " Standard Deviation for addition: \n",
      "7.237633485820697\n"
     ]
    }
   ],
   "source": [
    "import numpy as np\n",
    "import time\n",
    "def addition1():\n",
    "    A = np.random.randint(10, 90, (100, 100))\n",
    "    B = np.random.randint(10, 90, (100, 100))\n",
    "    C = np.random.randint(0, 1, (100, 100))\n",
    "    for i in range(100):\n",
    "        for j in range(100):\n",
    "            C[i][j] = A[i][j] + B[i][j]\n",
    "    return C\n",
    "print(\"Array after adding A & B using for loop method:\\n\")\n",
    "print(addition1())\n",
    "print()\n",
    "%timeit addition1()\n",
    "addition1MethodTimes = []\n",
    "for i in range(100):\n",
    "    startTime = time.time()\n",
    "    addition1()\n",
    "    endTime = time.time()\n",
    "    addition1MethodTimes.append((endTime-startTime)*1000)\n",
    "addition1MethodTimes = np.array(addition1MethodTimes)\n",
    "print(\"\\n\\n Time for addition method: \\n\")\n",
    "print(addition1MethodTimes)\n",
    "print(\"\\n\\n Average time for addition: \")\n",
    "print(addition1MethodTimes.mean())\n",
    "print(\"\\n\\n Standard Deviation for addition: \")\n",
    "print(addition1MethodTimes.std())"
   ]
  },
  {
   "cell_type": "markdown",
   "id": "2b5d91ed-cabf-460d-8b32-dd94ae2ba725",
   "metadata": {},
   "source": [
    "##### (ii) By using the numpy built-in function for matrix multiplication.\n",
    "\n",
    "METHOD 2 - using numpy built-in function"
   ]
  },
  {
   "cell_type": "code",
   "execution_count": 27,
   "id": "50135c70-63a6-4c17-a2b1-90539f2efb42",
   "metadata": {},
   "outputs": [
    {
     "name": "stdout",
     "output_type": "stream",
     "text": [
      "Array after adding A & B using numpy built-in function \n",
      "\n",
      "[[ 98 133  75 ... 122  37 129]\n",
      " [101 127 111 ...  86 132  85]\n",
      " [142  88  72 ... 146  88  61]\n",
      " ...\n",
      " [150 139  93 ...  74  59  48]\n",
      " [109 115  66 ... 121  70 138]\n",
      " [ 70 117 129 ... 138 139 106]]\n",
      "\n",
      "235 µs ± 2.64 µs per loop (mean ± std. dev. of 7 runs, 1000 loops each)\n",
      "\n",
      " Time for addition2Matrix method using numpy: \n",
      "\n",
      "[ 0.          0.          0.          0.          0.          0.\n",
      "  0.          0.          0.          0.          0.          0.\n",
      "  0.          0.          0.          0.          0.          0.\n",
      "  0.          0.          0.          0.          0.          0.\n",
      "  0.          0.          0.          0.          0.          0.\n",
      "  0.          0.          0.          0.          0.          0.\n",
      "  0.          0.          0.          0.          0.         15.65074921\n",
      "  0.          0.          0.          0.          0.          0.\n",
      "  0.          0.          0.          0.          0.          0.\n",
      "  0.          0.          0.          0.          0.          0.\n",
      "  0.          0.          0.          0.          0.          0.\n",
      "  0.          0.          0.          0.          0.          0.\n",
      "  0.          0.          0.          0.          0.          0.\n",
      "  0.          0.          0.          0.          0.          0.\n",
      "  0.          0.          0.          0.          0.          0.\n",
      "  0.          0.          0.          0.          0.          0.\n",
      "  0.          0.          0.          0.        ]\n",
      "\n",
      " Average time for addition2Matrix using numpy: \n",
      "0.1565074920654297\n",
      "\n",
      " Standard Deviation for addition2Matrix numpy: \n",
      "1.5572298841816654\n"
     ]
    }
   ],
   "source": [
    "import numpy as np\n",
    "import time\n",
    "def addition2():\n",
    "    A = np.random.randint(10, 90, (100, 100))\n",
    "    B = np.random.randint(10, 90, (100, 100))\n",
    "    C = np.add(A,B)\n",
    "    #C = A.__add__(B)\n",
    "    return C\n",
    "print(\"Array after adding A & B using numpy built-in function \\n\")\n",
    "print(addition2())\n",
    "print()\n",
    "%timeit addition2()\n",
    "addition2MethodTimes = []\n",
    "for i in range(100):\n",
    "    startTime = time.time()\n",
    "    addition2()\n",
    "    endTime = time.time()\n",
    "    addition2MethodTimes.append((endTime-startTime)*1000)\n",
    "addition2MethodTimes = np.array(addition2MethodTimes)\n",
    "print(\"\\n Time for addition2Matrix method using numpy: \\n\")\n",
    "print(addition2MethodTimes)\n",
    "print(\"\\n Average time for addition2Matrix using numpy: \")\n",
    "print(addition2MethodTimes.mean())\n",
    "print(\"\\n Standard Deviation for addition2Matrix numpy: \")\n",
    "print(addition2MethodTimes.std())"
   ]
  },
  {
   "cell_type": "markdown",
   "id": "adf7943b-9e81-409d-ae3e-8811c65d553c",
   "metadata": {},
   "source": [
    "<br>"
   ]
  },
  {
   "cell_type": "markdown",
   "id": "5c921b70-76a3-4b73-a25c-4d10a4b6f792",
   "metadata": {},
   "source": [
    "##### (B)  Please write a program that uses Numpy, creates two random 100 ×100 arrays A and B and multiple them together as C = AB in two different ways: (i) By using the for-loop method to compute each element of C by Cij = ∑k AikBkj for all i,j = 1,···,100. \n",
    "\n",
    "##### Please answer the following questions (a) Write a small program for both methods and test each methods 100 times and record the timing results in a numpy ector of length 100. (b) For each method, please compute the average and standard deviation of the running time.Please answer the following questions"
   ]
  },
  {
   "cell_type": "code",
   "execution_count": 25,
   "id": "b8743323-aaba-4bb6-98a2-5d17923c90c0",
   "metadata": {},
   "outputs": [
    {
     "name": "stdout",
     "output_type": "stream",
     "text": [
      "Array after multiplying A & B using for loop method: \n",
      "\n",
      "[[6972  221 3526 ... 4698 4307 7476]\n",
      " [2378 1595  378 ... 5440 7568 1680]\n",
      " [ 576 6004 1800 ... 4624 3953 1512]\n",
      " ...\n",
      " [ 966 2052 3366 ... 6052 2400  276]\n",
      " [1584 2607 4400 ... 6640 1440 1664]\n",
      " [1311 4088 1122 ... 1495 2665  636]]\n",
      "\n",
      "6.74 ms ± 61.3 µs per loop (mean ± std. dev. of 7 runs, 100 loops each)\n",
      "\n",
      "\n",
      " Time for multiplication1 method using for loop: \n",
      "\n",
      "[ 0.         15.6109333   0.         15.8905983   0.          0.\n",
      " 15.75779915  0.         15.54107666  0.         15.32936096  0.\n",
      " 15.62595367  0.          0.         15.62595367  0.         15.62595367\n",
      "  0.         15.62666893  0.          0.         15.62523842  0.\n",
      " 15.62738419  0.         15.62523842  0.          0.         15.62571526\n",
      "  0.         18.35107803  2.89297104 10.51354408  6.99496269  4.60672379\n",
      "  0.         15.64145088  0.          0.         15.62643051  0.\n",
      " 15.62547684  0.         15.6276226   0.          0.         15.62476158\n",
      "  0.         15.62595367  0.         15.62595367  0.          0.\n",
      " 15.62619209  0.         15.62595367  0.         15.62595367  0.\n",
      "  0.         15.62595367  0.         15.62619209  0.         15.62595367\n",
      "  0.          0.         15.62595367  0.         15.62666893  0.\n",
      " 15.62571526  0.          0.         15.6314373   0.         15.62142372\n",
      "  0.         15.625       0.          0.         15.62619209  0.\n",
      " 15.62595367  0.         15.62643051  0.          0.         15.62547684\n",
      "  0.         15.62595367  0.         15.62643051  0.         15.62595367\n",
      "  0.          0.         15.62595367  0.        ]\n",
      "\n",
      " Average time for multiplication1 for using for loop: \n",
      "6.684155464172363\n",
      "\n",
      " Standard Deviation for multiplication1 using for loop: \n",
      "7.6325555760074\n"
     ]
    }
   ],
   "source": [
    "import numpy as np\n",
    "import time\n",
    "def multiplication1():\n",
    "    A = np.random.randint(10, 90, (100, 100))\n",
    "    B = np.random.randint(10, 90, (100, 100))\n",
    "    C = np.random.randint(0, 1, (100, 100))\n",
    "    for i in range(100):\n",
    "        for j in range(100):\n",
    "            C[i][j] = A[i][j] * B[i][j]\n",
    "    return C\n",
    "print(\"Array after multiplying A & B using for loop method: \\n\")\n",
    "print(multiplication1())\n",
    "print()\n",
    "%timeit multiplication1()\n",
    "import numpy as np\n",
    "multiplication1MethodTimes = []\n",
    "for i in range(100):\n",
    "    startTime = time.time()\n",
    "    multiplication1()\n",
    "    endTime = time.time()\n",
    "    multiplication1MethodTimes.append((endTime-startTime)*1000)\n",
    "multiplication1MethodTimes = np.array(multiplication1MethodTimes)\n",
    "print(\"\\n\\n Time for multiplication1 method using for loop: \\n\")\n",
    "print(multiplication1MethodTimes)\n",
    "print(\"\\n Average time for multiplication1 for using for loop: \")\n",
    "print(multiplication1MethodTimes.mean())\n",
    "print(\"\\n Standard Deviation for multiplication1 using for loop: \")\n",
    "print(multiplication1MethodTimes.std())"
   ]
  },
  {
   "cell_type": "markdown",
   "id": "7c2ad61e-092b-4834-9d99-05896a506b2e",
   "metadata": {},
   "source": [
    "(ii) By using the numpy built-in function for matrix multiplication"
   ]
  },
  {
   "cell_type": "code",
   "execution_count": 26,
   "id": "18567486-1180-4aee-bd98-b13040aff4f6",
   "metadata": {},
   "outputs": [
    {
     "name": "stdout",
     "output_type": "stream",
     "text": [
      "Array after multiplication of A & B using numpy library: \n",
      "\n",
      "[[233884 249593 243316 ... 243741 228500 242644]\n",
      " [239829 231021 240120 ... 239726 218799 242302]\n",
      " [254880 256903 267422 ... 254539 241618 266116]\n",
      " ...\n",
      " [246329 235362 236676 ... 230298 222459 244808]\n",
      " [236199 238445 241707 ... 232173 217437 235858]\n",
      " [262263 263255 263131 ... 249196 241025 260735]]\n",
      "\n",
      "20.2 ns ± 0.188 ns per loop (mean ± std. dev. of 7 runs, 10000000 loops each)\n",
      "\n",
      " Time for multiplication2 of A & B using numpy library: \n",
      "\n",
      "[1.00016594 2.0005703  0.         1.00016594 1.00111961 1.0008812\n",
      " 0.         0.99897385 0.99992752 1.00016594 1.00016594 0.\n",
      " 1.00016594 1.0008812  1.00040436 1.00016594 0.         0.9996891\n",
      " 1.00016594 1.00016594 0.         1.00016594 1.0008812  0.99992752\n",
      " 1.00064278 0.         1.00064278 0.99945068 0.99992752 1.00183487\n",
      " 0.         1.00398064 0.99611282 0.99921227 1.0035038  0.\n",
      " 0.99897385 0.99873543 0.99992752 0.         1.20830536 0.99873543\n",
      " 0.99825859 0.         1.00398064 0.99873543 0.99873543 0.9996891\n",
      " 0.         1.0008812  1.00040436 0.99921227 1.00183487 0.\n",
      " 1.00016594 1.00111961 1.0175705  0.         0.98800659 1.00040436\n",
      " 0.99992752 1.01280212 0.         1.00016594 1.00016594 0.99444389\n",
      " 0.98705292 0.         1.00708008 1.00064278 1.01208687 0.\n",
      " 1.00016594 1.00016594 1.00016594 0.99253654 0.41651726 0.\n",
      " 0.         0.         0.         0.         0.         0.\n",
      " 0.         7.08127022 1.01590157 0.99420547 0.         0.99372864\n",
      " 1.00016594 1.01351738 0.99921227 0.         0.98514557 1.01518631\n",
      " 0.99444389 0.98657608 0.         1.00827217]\n",
      "\n",
      " Average time for multiplication2 of A & B using numpy library: \n",
      "0.7973527908325195\n",
      "\n",
      " Standard Deviation for multiplication2 A & B using numpy library: \n",
      "0.7827045172602543\n"
     ]
    }
   ],
   "source": [
    "import numpy as np\n",
    "import time\n",
    "def multiplication2():\n",
    "    A = np.random.randint(10, 90, (100, 100))\n",
    "    B = np.random.randint(10, 90, (100, 100))\n",
    "    C = np.matmul(A, B)\n",
    "    return C\n",
    "print(\"Array after multiplication of A & B using numpy library: \\n\")\n",
    "print(multiplication2())\n",
    "print()\n",
    "%timeit multiplication2\n",
    "multiplication2MethodTimes = []\n",
    "for i in range(100):\n",
    "    startTime = time.time()\n",
    "    multiplication2()\n",
    "    endTime = time.time()\n",
    "    multiplication2MethodTimes.append((endTime-startTime)*1000)\n",
    "multiplication2MethodTimes = np.array(multiplication2MethodTimes)\n",
    "print(\"\\n Time for multiplication2 of A & B using numpy library: \\n\")\n",
    "print(multiplication2MethodTimes)\n",
    "print(\"\\n Average time for multiplication2 of A & B using numpy library: \")\n",
    "print(multiplication2MethodTimes.mean())\n",
    "print(\"\\n Standard Deviation for multiplication2 A & B using numpy library: \")\n",
    "print(multiplication2MethodTimes.std())"
   ]
  }
 ],
 "metadata": {
  "kernelspec": {
   "display_name": "Python 3 (ipykernel)",
   "language": "python",
   "name": "python3"
  },
  "language_info": {
   "codemirror_mode": {
    "name": "ipython",
    "version": 3
   },
   "file_extension": ".py",
   "mimetype": "text/x-python",
   "name": "python",
   "nbconvert_exporter": "python",
   "pygments_lexer": "ipython3",
   "version": "3.9.7"
  }
 },
 "nbformat": 4,
 "nbformat_minor": 5
}
