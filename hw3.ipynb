{
 "cells": [
  {
   "cell_type": "markdown",
   "metadata": {},
   "source": [
    "## Weighted Ridge Regression Optimization\n",
    "\n",
    "We generate two highly correlated features X1 and X2 from a multli-variate normal distribution, we would like to implement the Ridge regression."
   ]
  },
  {
   "cell_type": "code",
   "execution_count": 1,
   "metadata": {
    "tags": []
   },
   "outputs": [],
   "source": [
    "import numpy as np\n",
    "import matplotlib.pyplot as plt\n",
    "%matplotlib inline  \n",
    "# Please try to use only these packages for computation\n",
    "\n",
    "n = 1000\n",
    "p = 2\n",
    "\n",
    "mean = np.zeros((p))\n",
    "val = 0.99\n",
    "cov = np.ones((p,p))*val\n",
    "cov = cov + np.eye(p)*(1-val)\n",
    "\n",
    "np.random.seed(10)\n",
    "X = np.random.multivariate_normal(mean, cov, n)\n",
    "theta_true = np.ones((p,1))\n",
    "\n"
   ]
  },
  {
   "cell_type": "markdown",
   "metadata": {},
   "source": [
    "We first generate data based on $y=X\\theta+e$, where $e$ follows $N(0,\\Sigma)$, with $\\delta=0.5$"
   ]
  },
  {
   "cell_type": "code",
   "execution_count": 2,
   "metadata": {},
   "outputs": [],
   "source": [
    "delta=0.5\n",
    "Sigma = np.eye(n,n,k=-1)*0.4 + np.eye(n,n)*1 + np.eye(n,n,k=1)*0.4\n",
    "mean = np.zeros(n)\n",
    "e = np.random.multivariate_normal(mean, Sigma, 1)\n",
    "\n",
    "y=X@theta_true + delta*e.T"
   ]
  },
  {
   "cell_type": "code",
   "execution_count": 3,
   "metadata": {},
   "outputs": [
    {
     "name": "stdout",
     "output_type": "stream",
     "text": [
      "[[1.  0.4 0.  ... 0.  0.  0. ]\n",
      " [0.4 1.  0.4 ... 0.  0.  0. ]\n",
      " [0.  0.4 1.  ... 0.  0.  0. ]\n",
      " ...\n",
      " [0.  0.  0.  ... 1.  0.4 0. ]\n",
      " [0.  0.  0.  ... 0.4 1.  0.4]\n",
      " [0.  0.  0.  ... 0.  0.4 1. ]]\n"
     ]
    }
   ],
   "source": [
    "print(Sigma)"
   ]
  },
  {
   "cell_type": "markdown",
   "metadata": {},
   "source": [
    "### Part 1: Analytical solution\n",
    "(1) 1. Please derive the log likelihood function $l(\\theta)$ of the weighted linear regression and implement in Python. "
   ]
  },
  {
   "cell_type": "code",
   "execution_count": 4,
   "metadata": {},
   "outputs": [
    {
     "name": "stdout",
     "output_type": "stream",
     "text": [
      "\n",
      "[[0.99094474]\n",
      " [0.97884959]]\n"
     ]
    }
   ],
   "source": [
    "lambda1 = 20\n",
    "theta_ridge_est = np.linalg.solve(np.dot(np.dot(X.T, np.linalg.inv(Sigma)), X)+lambda1, np.dot(np.dot(X.T, np.linalg.inv(Sigma)), y))\n",
    "print()\n",
    "print(theta_ridge_est)\n"
   ]
  },
  {
   "cell_type": "markdown",
   "metadata": {},
   "source": [
    "### Part 2: Gradient Descent\n",
    "\n",
    "(a) Please derive the gradient descent algorithm for the ridge regression problem for each iteration and write down for each iteration the way to update the coefficient $\\theta$. "
   ]
  },
  {
   "cell_type": "code",
   "execution_count": 15,
   "metadata": {},
   "outputs": [],
   "source": [
    "def computeCost(X, y, lambda1, theta):\n",
    "\n",
    "    y_cap = np.matmul(X,theta)\n",
    "    diff  = y-y_cap\n",
    "    norm  = np.linalg.norm(diff)\n",
    "    cost  = norm**2/(y.size*1.0) + lambda1*(np.linalg.norm(theta))**2\n",
    "    return cost\n",
    "\n",
    "def computeGrad(X, y, lambda1, theta):\n",
    "\n",
    "    y_cap    = np.matmul(X,theta)\n",
    "    diff     = y-y_cap\n",
    "    gradient = -2*np.dot(X.T,diff)/(y.size*1.0) + 2*lambda1*theta\n",
    "    return gradient\n"
   ]
  },
  {
   "cell_type": "markdown",
   "metadata": {},
   "source": [
    "(b) Let's use Gradient Descent to update parameter until convergence, please try different stepsize to see the Convergence performance. "
   ]
  },
  {
   "cell_type": "code",
   "execution_count": 17,
   "metadata": {},
   "outputs": [
    {
     "name": "stdout",
     "output_type": "stream",
     "text": [
      "\n",
      "Gradient descent with  200 iterations. alpha=0.00200 and initial theta=[0.50,0.50]\n",
      "\n",
      "Iteration 0 ------ theta:[ 0.50, 0.50] ------ Cost: 11.20397 \n",
      "Iteration 20 ------ theta:[ 0.15, 0.15] ------ Cost: 3.91219 \n",
      "Iteration 40 ------ theta:[ 0.10, 0.10] ------ Cost: 3.72549 \n",
      "Iteration 60 ------ theta:[ 0.09, 0.09] ------ Cost: 3.72071 \n",
      "Iteration 80 ------ theta:[ 0.09, 0.09] ------ Cost: 3.72058 \n",
      "Iteration 100 ------ theta:[ 0.09, 0.09] ------ Cost: 3.72058 \n",
      "Iteration 120 ------ theta:[ 0.09, 0.09] ------ Cost: 3.72058 \n",
      "Iteration 140 ------ theta:[ 0.09, 0.09] ------ Cost: 3.72058 \n",
      "Iteration 160 ------ theta:[ 0.09, 0.09] ------ Cost: 3.72058 \n",
      "Iteration 180 ------ theta:[ 0.09, 0.09] ------ Cost: 3.72058 \n",
      "\n",
      " final theta: [ 0.08656, 0.08653] \n",
      "\n",
      "Gradient descent with  200 iterations. alpha=0.00600 and initial theta=[0.50,0.50]\n",
      "\n",
      "Iteration 0 ------ theta:[ 0.50, 0.50] ------ Cost: 11.20397 \n",
      "Iteration 20 ------ theta:[ 0.09, 0.09] ------ Cost: 3.72062 \n",
      "Iteration 40 ------ theta:[ 0.09, 0.09] ------ Cost: 3.72058 \n",
      "Iteration 60 ------ theta:[ 0.09, 0.09] ------ Cost: 3.72058 \n",
      "Iteration 80 ------ theta:[ 0.09, 0.09] ------ Cost: 3.72058 \n",
      "Iteration 100 ------ theta:[ 0.09, 0.09] ------ Cost: 3.72058 \n",
      "Iteration 120 ------ theta:[ 0.09, 0.09] ------ Cost: 3.72058 \n",
      "Iteration 140 ------ theta:[ 0.09, 0.09] ------ Cost: 3.72058 \n",
      "Iteration 160 ------ theta:[ 0.09, 0.09] ------ Cost: 3.72058 \n",
      "Iteration 180 ------ theta:[ 0.09, 0.09] ------ Cost: 3.72058 \n",
      "\n",
      " final theta: [ 0.08656, 0.08653] \n",
      "\n",
      "Gradient descent with  200 iterations. alpha=0.01000 and initial theta=[0.50,0.50]\n",
      "\n",
      "Iteration 0 ------ theta:[ 0.50, 0.50] ------ Cost: 11.20397 \n",
      "Iteration 20 ------ theta:[ 0.09, 0.09] ------ Cost: 3.72058 \n",
      "Iteration 40 ------ theta:[ 0.09, 0.09] ------ Cost: 3.72058 \n",
      "Iteration 60 ------ theta:[ 0.09, 0.09] ------ Cost: 3.72058 \n",
      "Iteration 80 ------ theta:[ 0.09, 0.09] ------ Cost: 3.72058 \n",
      "Iteration 100 ------ theta:[ 0.09, 0.09] ------ Cost: 3.72058 \n",
      "Iteration 120 ------ theta:[ 0.09, 0.09] ------ Cost: 3.72058 \n",
      "Iteration 140 ------ theta:[ 0.09, 0.09] ------ Cost: 3.72058 \n",
      "Iteration 160 ------ theta:[ 0.09, 0.09] ------ Cost: 3.72058 \n",
      "Iteration 180 ------ theta:[ 0.09, 0.09] ------ Cost: 3.72058 \n",
      "\n",
      " final theta: [ 0.08656, 0.08653] \n",
      "\n",
      "Gradient descent with  200 iterations. alpha=0.01400 and initial theta=[0.50,0.50]\n",
      "\n",
      "Iteration 0 ------ theta:[ 0.50, 0.50] ------ Cost: 11.20397 \n",
      "Iteration 20 ------ theta:[ 0.09, 0.09] ------ Cost: 3.72058 \n",
      "Iteration 40 ------ theta:[ 0.09, 0.09] ------ Cost: 3.72058 \n",
      "Iteration 60 ------ theta:[ 0.09, 0.09] ------ Cost: 3.72058 \n",
      "Iteration 80 ------ theta:[ 0.09, 0.09] ------ Cost: 3.72058 \n",
      "Iteration 100 ------ theta:[ 0.09, 0.09] ------ Cost: 3.72058 \n",
      "Iteration 120 ------ theta:[ 0.09, 0.09] ------ Cost: 3.72058 \n",
      "Iteration 140 ------ theta:[ 0.09, 0.09] ------ Cost: 3.72058 \n",
      "Iteration 160 ------ theta:[ 0.09, 0.09] ------ Cost: 3.72058 \n",
      "Iteration 180 ------ theta:[ 0.09, 0.09] ------ Cost: 3.72058 \n",
      "\n",
      " final theta: [ 0.08656, 0.08653] \n",
      "\n",
      "Gradient descent with  200 iterations. alpha=0.01800 and initial theta=[0.50,0.50]\n",
      "\n",
      "Iteration 0 ------ theta:[ 0.50, 0.50] ------ Cost: 11.20397 \n",
      "Iteration 20 ------ theta:[ 0.09, 0.09] ------ Cost: 3.72058 \n",
      "Iteration 40 ------ theta:[ 0.09, 0.09] ------ Cost: 3.72058 \n",
      "Iteration 60 ------ theta:[ 0.09, 0.09] ------ Cost: 3.72058 \n",
      "Iteration 80 ------ theta:[ 0.09, 0.09] ------ Cost: 3.72058 \n",
      "Iteration 100 ------ theta:[ 0.09, 0.09] ------ Cost: 3.72058 \n",
      "Iteration 120 ------ theta:[ 0.09, 0.09] ------ Cost: 3.72058 \n",
      "Iteration 140 ------ theta:[ 0.09, 0.09] ------ Cost: 3.72058 \n",
      "Iteration 160 ------ theta:[ 0.09, 0.09] ------ Cost: 3.72058 \n",
      "Iteration 180 ------ theta:[ 0.09, 0.09] ------ Cost: 3.72058 \n",
      "\n",
      " final theta: [ 0.08656, 0.08653] \n",
      "\n"
     ]
    }
   ],
   "source": [
    "def gradientDescent(X, y, theta, lambda1, step_size, numIterations):\n",
    "\n",
    "    theta_values = []\n",
    "    loss_values  = []\n",
    "    for i in range(0, numIterations):\n",
    "        \n",
    "        cost = computeCost(X, y, lambda1, theta)\n",
    "        loss_values.append(float(cost))\n",
    "        if i%20==0:\n",
    "            print(\"Iteration %d ------ theta:[ %0.2f, %0.2f] ------ Cost: %0.5f \" % (i, theta[0], theta[1], cost))\n",
    "        \n",
    "        gradient = computeGrad(X, y, lambda1, theta)\n",
    "        theta    = theta - step_size*gradient\n",
    "        theta_values.append(theta)\n",
    "    \n",
    "    print(\"\\n final theta: [ %0.5f, %0.5f] \\n\"%(theta.flatten()[0],theta.flatten()[1]))\n",
    "    return theta,theta_values,loss_values\n",
    "\n",
    "numIterations=200\n",
    "\n",
    "print()\n",
    "step_size_1=0.002\n",
    "init_theta=np.array([[0.5],[0.5]])\n",
    "print(\"Gradient descent with %4d iterations. alpha=%6.5f and initial theta=[%0.2f,%0.2f]\\n\"%(numIterations,step_size_1,init_theta.flatten()[0],init_theta.flatten()[1]))\n",
    "theta,theta_values,loss_values_1=gradientDescent(X, y, init_theta, lambda1, step_size_1, numIterations)\n",
    "\n",
    "\n",
    "step_size_2=0.006\n",
    "print(\"Gradient descent with %4d iterations. alpha=%6.5f and initial theta=[%0.2f,%0.2f]\\n\"%(numIterations,step_size_2,init_theta.flatten()[0],init_theta.flatten()[1]))\n",
    "theta,theta_values,loss_values_2=gradientDescent(X, y, init_theta, lambda1,step_size_2, numIterations)\n",
    "\n",
    "\n",
    "step_size_3=0.010\n",
    "print(\"Gradient descent with %4d iterations. alpha=%6.5f and initial theta=[%0.2f,%0.2f]\\n\"%(numIterations,step_size_3,init_theta.flatten()[0],init_theta.flatten()[1]))\n",
    "theta,theta_values,loss_values_3=gradientDescent(X, y, init_theta, lambda1,step_size_3, numIterations)\n",
    "\n",
    "\n",
    "step_size_4=0.014\n",
    "print(\"Gradient descent with %4d iterations. alpha=%6.5f and initial theta=[%0.2f,%0.2f]\\n\"%(numIterations,step_size_4,init_theta.flatten()[0],init_theta.flatten()[1]))\n",
    "theta,theta_values,loss_values_4=gradientDescent(X, y, init_theta, lambda1,step_size_4, numIterations)\n",
    "\n",
    "\n",
    "step_size_5=0.018\n",
    "print(\"Gradient descent with %4d iterations. alpha=%6.5f and initial theta=[%0.2f,%0.2f]\\n\"%(numIterations,step_size_5,init_theta.flatten()[0],init_theta.flatten()[1]))\n",
    "theta,theta_values,loss_values_5=gradientDescent(X, y, init_theta, lambda1,step_size_5, numIterations)"
   ]
  },
  {
   "cell_type": "markdown",
   "metadata": {},
   "source": [
    "(c) Normally, it is good to visualize the loss function over time, please plot the loss (cost) function for theta in each iteration. "
   ]
  },
  {
   "cell_type": "code",
   "execution_count": 18,
   "metadata": {},
   "outputs": [
    {
     "data": {
      "image/png": "[encoded data removed]",
      "text/plain": [
       "<Figure size 576x576 with 1 Axes>"
      ]
     },
     "metadata": {
      "needs_background": "light"
     },
     "output_type": "display_data"
    }
   ],
   "source": [
    "plt.rcParams['figure.figsize'] = [8,8]\n",
    "\n",
    "plt.plot(loss_values_1,label=r'$\\alpha=$'+str(step_size_1))\n",
    "plt.plot(loss_values_2,label=r'$\\alpha=$'+str(step_size_2))\n",
    "plt.plot(loss_values_3,label=r'$\\alpha=$'+str(step_size_3))\n",
    "plt.plot(loss_values_4,label=r'$\\alpha=$'+str(step_size_4))\n",
    "plt.plot(loss_values_5,label=r'$\\alpha=$'+str(step_size_5))\n",
    "\n",
    "plt.gca().set_ylabel('Loss (Cost) Function')\n",
    "plt.gca().set_xlabel('theta in each iteration')\n",
    "plt.gca().set_title('Loss function for different step sizes')\n",
    "\n",
    "plt.legend()\n",
    "plt.grid()\n",
    "plt.show()"
   ]
  },
  {
   "cell_type": "code",
   "execution_count": null,
   "metadata": {},
   "outputs": [],
   "source": []
  }
 ],
 "metadata": {
  "anaconda-cloud": {},
  "kernelspec": {
   "display_name": "Python 3 (ipykernel)",
   "language": "python",
   "name": "python3"
  },
  "language_info": {
   "codemirror_mode": {
    "name": "ipython",
    "version": 3
   },
   "file_extension": ".py",
   "mimetype": "text/x-python",
   "name": "python",
   "nbconvert_exporter": "python",
   "pygments_lexer": "ipython3",
   "version": "3.9.7"
  }
 },
 "nbformat": 4,
 "nbformat_minor": 4
}
